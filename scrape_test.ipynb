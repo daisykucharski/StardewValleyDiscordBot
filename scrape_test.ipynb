{
 "cells": [
  {
   "cell_type": "code",
   "execution_count": 64,
   "metadata": {},
   "outputs": [],
   "source": [
    "SEARCH_URL = 'https://stardewvalleywiki.com/mediawiki/index.php?action=opensearch&search='"
   ]
  },
  {
   "cell_type": "code",
   "execution_count": 60,
   "metadata": {},
   "outputs": [],
   "source": [
    "def was_result_found(soup):\n",
    "    return soup.find(id=\"firstHeading\").text != \"Search results\""
   ]
  },
  {
   "cell_type": "code",
   "execution_count": 71,
   "metadata": {},
   "outputs": [],
   "source": [
    "def find_infobox_section(soup, name):\n",
    "\n",
    "    infobox = soup.find(id=\"infoboxtable\")\n",
    "\n",
    "    if not infobox:\n",
    "        return f'No infobox found for {name}'\n",
    "\n",
    "    table_rows = infobox.findAll('tr')\n",
    "\n",
    "    for row in table_rows[3:]:\n",
    "        \n",
    "        section = row.find(id='infoboxsection')\n",
    "\n",
    "        if section and section.text.strip() == f'{name}:':\n",
    "            return row.find(id='infoboxdetail')\n",
    "\n",
    "    return None\n"
   ]
  },
  {
   "cell_type": "code",
   "execution_count": 100,
   "metadata": {},
   "outputs": [],
   "source": [
    "def section_to_readable(info):\n",
    "    return ', '.join(map(lambda item: item.text, info.findAll('a')))\n"
   ]
  },
  {
   "cell_type": "markdown",
   "metadata": {},
   "source": [
    "# Gifting routes"
   ]
  },
  {
   "cell_type": "markdown",
   "metadata": {},
   "source": [
    "## Birthday"
   ]
  },
  {
   "cell_type": "code",
   "execution_count": 76,
   "metadata": {},
   "outputs": [
    {
     "data": {
      "text/plain": [
       "'Fall 24'"
      ]
     },
     "execution_count": 76,
     "metadata": {},
     "output_type": "execute_result"
    }
   ],
   "source": [
    "from bs4 import BeautifulSoup\n",
    "import requests\n",
    "\n",
    "\n",
    "def find_birthday(name):\n",
    "    url = f'{SEARCH_URL}{name}'\n",
    "\n",
    "    page = requests.get(url).text\n",
    "    soup = BeautifulSoup(page)\n",
    "\n",
    "    # was the search succesful?\n",
    "    if not was_result_found(soup):\n",
    "        return f'{name} was not found on the wiki'\n",
    "\n",
    "    # try and find birthday info in info box\n",
    "    birthday_info = find_infobox_section(soup, 'Birthday')\n",
    "\n",
    "    # if we couldn't find birthday info in the infobox, return error message\n",
    "    if not birthday_info:\n",
    "        return f'Could not find info about the birthday of {name}'\n",
    "\n",
    "    # get info about birthday\n",
    "    return birthday_info.text.strip()\n",
    "\n",
    "\n",
    "find_birthday('George')\n"
   ]
  },
  {
   "cell_type": "markdown",
   "metadata": {},
   "source": [
    "## Love Gifts"
   ]
  },
  {
   "cell_type": "code",
   "execution_count": 101,
   "metadata": {},
   "outputs": [
    {
     "data": {
      "text/plain": [
       "'Beet, Chocolate Cake, Diamond, Fairy Rose, Stuffing, Tulip'"
      ]
     },
     "execution_count": 101,
     "metadata": {},
     "output_type": "execute_result"
    }
   ],
   "source": [
    "def find_best_gifts(name):\n",
    "    url = f'{SEARCH_URL}{name}'\n",
    "\n",
    "    page = requests.get(url).text\n",
    "    soup = BeautifulSoup(page)\n",
    "\n",
    "    # was the search succesful?\n",
    "    if not was_result_found(soup):\n",
    "        return f'{name} was not found on the wiki'\n",
    "\n",
    "    best_gifts_info = find_infobox_section(soup, 'Best Gifts')\n",
    "\n",
    "    if not best_gifts_info:\n",
    "        return f'Could not find info about the best gifts for {name}'\n",
    "\n",
    "    # return human readable form of gift info\n",
    "    return section_to_readable(best_gifts_info)\n",
    "\n",
    "find_best_gifts('Evelyn')\n"
   ]
  },
  {
   "cell_type": "markdown",
   "metadata": {},
   "source": [
    "## Universal Loves"
   ]
  },
  {
   "cell_type": "code",
   "execution_count": 102,
   "metadata": {},
   "outputs": [
    {
     "data": {
      "text/plain": [
       "\"Golden Pumpkin, Magic Rock Candy, Pearl, Prismatic Shard, Rabbit's Foot\""
      ]
     },
     "execution_count": 102,
     "metadata": {},
     "output_type": "execute_result"
    }
   ],
   "source": [
    "def find_universal_loves():\n",
    "    url = f'{SEARCH_URL}List of All Gifts'\n",
    "\n",
    "    page = requests.get(url).text\n",
    "    soup = BeautifulSoup(page)\n",
    "\n",
    "    # find the universal loves section on the page\n",
    "    universal_loves_info = soup.findAll('tbody')[1].findAll('tr')[1].findAll('td')[2]\n",
    "\n",
    "    # return human readable form of universal loves info\n",
    "    return section_to_readable(universal_loves_info)\n",
    "\n",
    "find_universal_loves()"
   ]
  },
  {
   "cell_type": "markdown",
   "metadata": {},
   "source": [
    "# Item route"
   ]
  },
  {
   "cell_type": "code",
   "execution_count": 138,
   "metadata": {},
   "outputs": [],
   "source": [
    "def replace_dots_with_commas(string):\n",
    "    words = string.split('•')\n",
    "    return ', '.join(map(lambda word: word.strip(), words))\n",
    "    "
   ]
  },
  {
   "cell_type": "markdown",
   "metadata": {},
   "source": [
    "## Info about fish: season/time/location"
   ]
  },
  {
   "cell_type": "code",
   "execution_count": 140,
   "metadata": {},
   "outputs": [
    {
     "data": {
      "text/plain": [
       "{'seasons': 'Spring, Fall, Winter', 'time': '6am – 7pm', 'locations': 'Ocean'}"
      ]
     },
     "execution_count": 140,
     "metadata": {},
     "output_type": "execute_result"
    }
   ],
   "source": [
    "def find_fish_info(fish):\n",
    "    url = f'{SEARCH_URL}{fish}'\n",
    "\n",
    "    page = requests.get(url).text\n",
    "    soup = BeautifulSoup(page)\n",
    "\n",
    "    # was the search succesful?\n",
    "    if not was_result_found(soup):\n",
    "        return f'{fish} was not found on the wiki'\n",
    "\n",
    "    season_info = find_infobox_section(soup, 'Season')\n",
    "    time_info = find_infobox_section(soup, 'Time of Day')\n",
    "    location_info = find_infobox_section(soup, 'Found in')\n",
    "\n",
    "    if not (season_info and time_info and location_info):\n",
    "        return f'Could not find all fishing information about {fish}'\n",
    "\n",
    "    season_info = replace_dots_with_commas(season_info.text)\n",
    "    time_info = time_info.text.strip()\n",
    "    location_info = replace_dots_with_commas(location_info.text)\n",
    "\n",
    "    return {'seasons': season_info, 'time': time_info, 'locations': location_info}\n",
    "\n",
    "find_fish_info('Sardine')\n"
   ]
  },
  {
   "cell_type": "markdown",
   "metadata": {},
   "source": [
    "## Info about crops: season/growth timeline"
   ]
  },
  {
   "cell_type": "code",
   "execution_count": 144,
   "metadata": {},
   "outputs": [
    {
     "data": {
      "text/plain": [
       "'Could not find all agriculture information about Alex'"
      ]
     },
     "execution_count": 144,
     "metadata": {},
     "output_type": "execute_result"
    }
   ],
   "source": [
    "def find_crop_info(crop):\n",
    "    url = f'{SEARCH_URL}{crop}'\n",
    "\n",
    "    page = requests.get(url).text\n",
    "    soup = BeautifulSoup(page)\n",
    "\n",
    "    # was the search succesful?\n",
    "    if not was_result_found(soup):\n",
    "        return f'{crop} was not found on the wiki'\n",
    "\n",
    "    growth_time_info = find_infobox_section(soup, 'Growth Time')\n",
    "    seasons_info = find_infobox_section(soup, 'Season') or find_infobox_section(soup, 'Harvest Season')\n",
    "\n",
    "    if not (growth_time_info and seasons_info):\n",
    "        return f'Could not find all agriculture information about {crop}'\n",
    "\n",
    "    growth_time_info = growth_time_info.text.strip()\n",
    "    seasons_info = replace_dots_with_commas(seasons_info.text)\n",
    "\n",
    "    return {'growth_time': growth_time_info, 'seasons': seasons_info}\n",
    "\n",
    "find_crop_info('Alex')\n"
   ]
  }
 ],
 "metadata": {
  "kernelspec": {
   "display_name": "Python 3.8.10 ('base')",
   "language": "python",
   "name": "python3"
  },
  "language_info": {
   "codemirror_mode": {
    "name": "ipython",
    "version": 3
   },
   "file_extension": ".py",
   "mimetype": "text/x-python",
   "name": "python",
   "nbconvert_exporter": "python",
   "pygments_lexer": "ipython3",
   "version": "3.8.10"
  },
  "orig_nbformat": 4,
  "vscode": {
   "interpreter": {
    "hash": "82670ddf83875e6065f562fcee21d9050c541635a63e586723c521e7774b68e0"
   }
  }
 },
 "nbformat": 4,
 "nbformat_minor": 2
}
